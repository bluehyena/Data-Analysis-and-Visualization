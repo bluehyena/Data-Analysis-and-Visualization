{
 "cells": [
  {
   "cell_type": "markdown",
   "metadata": {},
   "source": [
    "## box plot\n",
    "* box-and-whisker plot, box-and-whisker diagram\n",
    "* 상자 수염그림\n",
    "* 가공하지 않은 자료 그대로를 이용하여 그린 것이 아니라, 자료로부터 얻어낸 통계량인 5가지 요약 수치로 그린다.\n",
    "* 5가지 요약 수치란 기술통계학에서 자료의 정보를 알려주는 아래의 다섯 가지 수치를 의미한다.\n",
    "\n",
    "1. 최솟값\n",
    "2. 제 1 사분위수\n",
    "3. 제 2 사분위수() == 중앙값\n",
    "4. 제 3 사분위수()\n",
    "5. 최댓값"
   ]
  },
  {
   "cell_type": "code",
   "execution_count": 1,
   "metadata": {},
   "outputs": [],
   "source": [
    "import pandas as pd\n",
    "import numpy as np\n",
    "import matplotlib.pyplot as plt\n",
    "import matplotlib as mpl\n",
    "\n",
    "%matplotlib inline\n",
    "\n",
    "mpl.rcParams['axes.unicode_minus'] = False"
   ]
  },
  {
   "cell_type": "code",
   "execution_count": 3,
   "metadata": {},
   "outputs": [
    {
     "data": {
      "text/html": [
       "<div>\n",
       "<style scoped>\n",
       "    .dataframe tbody tr th:only-of-type {\n",
       "        vertical-align: middle;\n",
       "    }\n",
       "\n",
       "    .dataframe tbody tr th {\n",
       "        vertical-align: top;\n",
       "    }\n",
       "\n",
       "    .dataframe thead th {\n",
       "        text-align: right;\n",
       "    }\n",
       "</style>\n",
       "<table border=\"1\" class=\"dataframe\">\n",
       "  <thead>\n",
       "    <tr style=\"text-align: right;\">\n",
       "      <th></th>\n",
       "      <th>A</th>\n",
       "      <th>B</th>\n",
       "      <th>C</th>\n",
       "      <th>D</th>\n",
       "      <th>E</th>\n",
       "    </tr>\n",
       "  </thead>\n",
       "  <tbody>\n",
       "    <tr>\n",
       "      <th>0</th>\n",
       "      <td>0.216288</td>\n",
       "      <td>0.631648</td>\n",
       "      <td>0.484511</td>\n",
       "      <td>0.160373</td>\n",
       "      <td>0.047264</td>\n",
       "    </tr>\n",
       "    <tr>\n",
       "      <th>1</th>\n",
       "      <td>0.197169</td>\n",
       "      <td>0.499450</td>\n",
       "      <td>0.974748</td>\n",
       "      <td>0.508707</td>\n",
       "      <td>0.189157</td>\n",
       "    </tr>\n",
       "    <tr>\n",
       "      <th>2</th>\n",
       "      <td>0.221030</td>\n",
       "      <td>0.295345</td>\n",
       "      <td>0.760801</td>\n",
       "      <td>0.655453</td>\n",
       "      <td>0.860253</td>\n",
       "    </tr>\n",
       "    <tr>\n",
       "      <th>3</th>\n",
       "      <td>0.933035</td>\n",
       "      <td>0.755953</td>\n",
       "      <td>0.234378</td>\n",
       "      <td>0.576768</td>\n",
       "      <td>0.684010</td>\n",
       "    </tr>\n",
       "    <tr>\n",
       "      <th>4</th>\n",
       "      <td>0.950787</td>\n",
       "      <td>0.071239</td>\n",
       "      <td>0.135286</td>\n",
       "      <td>0.096062</td>\n",
       "      <td>0.709140</td>\n",
       "    </tr>\n",
       "    <tr>\n",
       "      <th>5</th>\n",
       "      <td>0.024220</td>\n",
       "      <td>0.142510</td>\n",
       "      <td>0.178643</td>\n",
       "      <td>0.206814</td>\n",
       "      <td>0.478766</td>\n",
       "    </tr>\n",
       "    <tr>\n",
       "      <th>6</th>\n",
       "      <td>0.418787</td>\n",
       "      <td>0.059816</td>\n",
       "      <td>0.174261</td>\n",
       "      <td>0.039586</td>\n",
       "      <td>0.055278</td>\n",
       "    </tr>\n",
       "    <tr>\n",
       "      <th>7</th>\n",
       "      <td>0.706135</td>\n",
       "      <td>0.472594</td>\n",
       "      <td>0.199764</td>\n",
       "      <td>0.612577</td>\n",
       "      <td>0.603008</td>\n",
       "    </tr>\n",
       "    <tr>\n",
       "      <th>8</th>\n",
       "      <td>0.253461</td>\n",
       "      <td>0.236780</td>\n",
       "      <td>0.319710</td>\n",
       "      <td>0.679346</td>\n",
       "      <td>0.656107</td>\n",
       "    </tr>\n",
       "    <tr>\n",
       "      <th>9</th>\n",
       "      <td>0.344842</td>\n",
       "      <td>0.077345</td>\n",
       "      <td>0.242034</td>\n",
       "      <td>0.042802</td>\n",
       "      <td>0.529392</td>\n",
       "    </tr>\n",
       "  </tbody>\n",
       "</table>\n",
       "</div>"
      ],
      "text/plain": [
       "          A         B         C         D         E\n",
       "0  0.216288  0.631648  0.484511  0.160373  0.047264\n",
       "1  0.197169  0.499450  0.974748  0.508707  0.189157\n",
       "2  0.221030  0.295345  0.760801  0.655453  0.860253\n",
       "3  0.933035  0.755953  0.234378  0.576768  0.684010\n",
       "4  0.950787  0.071239  0.135286  0.096062  0.709140\n",
       "5  0.024220  0.142510  0.178643  0.206814  0.478766\n",
       "6  0.418787  0.059816  0.174261  0.039586  0.055278\n",
       "7  0.706135  0.472594  0.199764  0.612577  0.603008\n",
       "8  0.253461  0.236780  0.319710  0.679346  0.656107\n",
       "9  0.344842  0.077345  0.242034  0.042802  0.529392"
      ]
     },
     "execution_count": 3,
     "metadata": {},
     "output_type": "execute_result"
    }
   ],
   "source": [
    "df = pd.DataFrame(np.random.rand(10,5), columns = ['A','B','C','D','E'])\n",
    "df"
   ]
  },
  {
   "cell_type": "code",
   "execution_count": 4,
   "metadata": {},
   "outputs": [
    {
     "data": {
      "text/html": [
       "<div>\n",
       "<style scoped>\n",
       "    .dataframe tbody tr th:only-of-type {\n",
       "        vertical-align: middle;\n",
       "    }\n",
       "\n",
       "    .dataframe tbody tr th {\n",
       "        vertical-align: top;\n",
       "    }\n",
       "\n",
       "    .dataframe thead th {\n",
       "        text-align: right;\n",
       "    }\n",
       "</style>\n",
       "<table border=\"1\" class=\"dataframe\">\n",
       "  <thead>\n",
       "    <tr style=\"text-align: right;\">\n",
       "      <th></th>\n",
       "      <th>A</th>\n",
       "      <th>B</th>\n",
       "      <th>C</th>\n",
       "      <th>D</th>\n",
       "      <th>E</th>\n",
       "    </tr>\n",
       "  </thead>\n",
       "  <tbody>\n",
       "    <tr>\n",
       "      <th>count</th>\n",
       "      <td>10.000000</td>\n",
       "      <td>10.000000</td>\n",
       "      <td>10.000000</td>\n",
       "      <td>10.000000</td>\n",
       "      <td>10.000000</td>\n",
       "    </tr>\n",
       "    <tr>\n",
       "      <th>mean</th>\n",
       "      <td>0.426575</td>\n",
       "      <td>0.324268</td>\n",
       "      <td>0.370414</td>\n",
       "      <td>0.357849</td>\n",
       "      <td>0.481237</td>\n",
       "    </tr>\n",
       "    <tr>\n",
       "      <th>std</th>\n",
       "      <td>0.324405</td>\n",
       "      <td>0.251657</td>\n",
       "      <td>0.284382</td>\n",
       "      <td>0.270470</td>\n",
       "      <td>0.286652</td>\n",
       "    </tr>\n",
       "    <tr>\n",
       "      <th>min</th>\n",
       "      <td>0.024220</td>\n",
       "      <td>0.059816</td>\n",
       "      <td>0.135286</td>\n",
       "      <td>0.039586</td>\n",
       "      <td>0.047264</td>\n",
       "    </tr>\n",
       "    <tr>\n",
       "      <th>25%</th>\n",
       "      <td>0.217474</td>\n",
       "      <td>0.093637</td>\n",
       "      <td>0.183923</td>\n",
       "      <td>0.112140</td>\n",
       "      <td>0.261559</td>\n",
       "    </tr>\n",
       "    <tr>\n",
       "      <th>50%</th>\n",
       "      <td>0.299151</td>\n",
       "      <td>0.266062</td>\n",
       "      <td>0.238206</td>\n",
       "      <td>0.357761</td>\n",
       "      <td>0.566200</td>\n",
       "    </tr>\n",
       "    <tr>\n",
       "      <th>75%</th>\n",
       "      <td>0.634298</td>\n",
       "      <td>0.492736</td>\n",
       "      <td>0.443311</td>\n",
       "      <td>0.603625</td>\n",
       "      <td>0.677034</td>\n",
       "    </tr>\n",
       "    <tr>\n",
       "      <th>max</th>\n",
       "      <td>0.950787</td>\n",
       "      <td>0.755953</td>\n",
       "      <td>0.974748</td>\n",
       "      <td>0.679346</td>\n",
       "      <td>0.860253</td>\n",
       "    </tr>\n",
       "  </tbody>\n",
       "</table>\n",
       "</div>"
      ],
      "text/plain": [
       "               A          B          C          D          E\n",
       "count  10.000000  10.000000  10.000000  10.000000  10.000000\n",
       "mean    0.426575   0.324268   0.370414   0.357849   0.481237\n",
       "std     0.324405   0.251657   0.284382   0.270470   0.286652\n",
       "min     0.024220   0.059816   0.135286   0.039586   0.047264\n",
       "25%     0.217474   0.093637   0.183923   0.112140   0.261559\n",
       "50%     0.299151   0.266062   0.238206   0.357761   0.566200\n",
       "75%     0.634298   0.492736   0.443311   0.603625   0.677034\n",
       "max     0.950787   0.755953   0.974748   0.679346   0.860253"
      ]
     },
     "execution_count": 4,
     "metadata": {},
     "output_type": "execute_result"
    }
   ],
   "source": [
    "df.describe() # 이를 바탕으로 box plot 이 그려짐"
   ]
  },
  {
   "cell_type": "code",
   "execution_count": 7,
   "metadata": {},
   "outputs": [
    {
     "data": {
      "text/plain": [
       "<AxesSubplot:>"
      ]
     },
     "execution_count": 7,
     "metadata": {},
     "output_type": "execute_result"
    },
    {
     "data": {
      "image/png": "[encoded data removed]",
      "text/plain": [
       "<Figure size 432x288 with 1 Axes>"
      ]
     },
     "metadata": {
      "needs_background": "light"
     },
     "output_type": "display_data"
    }
   ],
   "source": [
    "df.plot.box()"
   ]
  },
  {
   "cell_type": "code",
   "execution_count": 8,
   "metadata": {},
   "outputs": [
    {
     "data": {
      "text/plain": [
       "<AxesSubplot:>"
      ]
     },
     "execution_count": 8,
     "metadata": {},
     "output_type": "execute_result"
    },
    {
     "data": {
      "image/png": "[encoded data removed]",
      "text/plain": [
       "<Figure size 432x288 with 1 Axes>"
      ]
     },
     "metadata": {
      "needs_background": "light"
     },
     "output_type": "display_data"
    }
   ],
   "source": [
    "color = {\"boxes\": \"DarkGreen\",\n",
    "        \"whiskers\": \"DarkOrange\",\n",
    "        \"medians\": \"DarkBlue\",\n",
    "        \"caps\": \"Gray\"} # 각 색상 지정\n",
    "\n",
    "df.plot.box(color=color, sym='r+') #이상치 빨간 +"
   ]
  },
  {
   "cell_type": "code",
   "execution_count": 9,
   "metadata": {},
   "outputs": [
    {
     "data": {
      "text/plain": [
       "<AxesSubplot:>"
      ]
     },
     "execution_count": 9,
     "metadata": {},
     "output_type": "execute_result"
    },
    {
     "data": {
      "image/png": "[encoded data removed]",
      "text/plain": [
       "<Figure size 432x288 with 1 Axes>"
      ]
     },
     "metadata": {
      "needs_background": "light"
     },
     "output_type": "display_data"
    }
   ],
   "source": [
    "df.plot.box(vert=False, positions = [1,4,5,6,8])  # 가로"
   ]
  },
  {
   "cell_type": "code",
   "execution_count": 11,
   "metadata": {},
   "outputs": [
    {
     "data": {
      "text/html": [
       "<div>\n",
       "<style scoped>\n",
       "    .dataframe tbody tr th:only-of-type {\n",
       "        vertical-align: middle;\n",
       "    }\n",
       "\n",
       "    .dataframe tbody tr th {\n",
       "        vertical-align: top;\n",
       "    }\n",
       "\n",
       "    .dataframe thead th {\n",
       "        text-align: right;\n",
       "    }\n",
       "</style>\n",
       "<table border=\"1\" class=\"dataframe\">\n",
       "  <thead>\n",
       "    <tr style=\"text-align: right;\">\n",
       "      <th></th>\n",
       "      <th>0</th>\n",
       "      <th>1</th>\n",
       "      <th>2</th>\n",
       "      <th>3</th>\n",
       "      <th>4</th>\n",
       "    </tr>\n",
       "  </thead>\n",
       "  <tbody>\n",
       "    <tr>\n",
       "      <th>0</th>\n",
       "      <td>0.909601</td>\n",
       "      <td>0.976904</td>\n",
       "      <td>0.093562</td>\n",
       "      <td>0.160258</td>\n",
       "      <td>0.595292</td>\n",
       "    </tr>\n",
       "  </tbody>\n",
       "</table>\n",
       "</div>"
      ],
      "text/plain": [
       "          0         1         2         3         4\n",
       "0  0.909601  0.976904  0.093562  0.160258  0.595292"
      ]
     },
     "execution_count": 11,
     "metadata": {},
     "output_type": "execute_result"
    }
   ],
   "source": [
    "df = pd.DataFrame(np.random.rand(10,5))\n",
    "df.head(1)"
   ]
  },
  {
   "cell_type": "code",
   "execution_count": 12,
   "metadata": {},
   "outputs": [
    {
     "data": {
      "image/png": "[encoded data removed]",
      "text/plain": [
       "<Figure size 432x288 with 1 Axes>"
      ]
     },
     "metadata": {
      "needs_background": "light"
     },
     "output_type": "display_data"
    }
   ],
   "source": [
    "bp = df.boxplot()"
   ]
  },
  {
   "cell_type": "code",
   "execution_count": 13,
   "metadata": {},
   "outputs": [
    {
     "data": {
      "text/html": [
       "<div>\n",
       "<style scoped>\n",
       "    .dataframe tbody tr th:only-of-type {\n",
       "        vertical-align: middle;\n",
       "    }\n",
       "\n",
       "    .dataframe tbody tr th {\n",
       "        vertical-align: top;\n",
       "    }\n",
       "\n",
       "    .dataframe thead th {\n",
       "        text-align: right;\n",
       "    }\n",
       "</style>\n",
       "<table border=\"1\" class=\"dataframe\">\n",
       "  <thead>\n",
       "    <tr style=\"text-align: right;\">\n",
       "      <th></th>\n",
       "      <th>Col1</th>\n",
       "      <th>Col2</th>\n",
       "    </tr>\n",
       "  </thead>\n",
       "  <tbody>\n",
       "    <tr>\n",
       "      <th>0</th>\n",
       "      <td>0.213308</td>\n",
       "      <td>0.854207</td>\n",
       "    </tr>\n",
       "    <tr>\n",
       "      <th>1</th>\n",
       "      <td>0.191468</td>\n",
       "      <td>0.619175</td>\n",
       "    </tr>\n",
       "  </tbody>\n",
       "</table>\n",
       "</div>"
      ],
      "text/plain": [
       "       Col1      Col2\n",
       "0  0.213308  0.854207\n",
       "1  0.191468  0.619175"
      ]
     },
     "execution_count": 13,
     "metadata": {},
     "output_type": "execute_result"
    }
   ],
   "source": [
    "df = pd.DataFrame(np.random.rand(10, 2), columns=['Col1','Col2'])\n",
    "df.head(2)"
   ]
  },
  {
   "cell_type": "code",
   "execution_count": 15,
   "metadata": {},
   "outputs": [
    {
     "data": {
      "text/html": [
       "<div>\n",
       "<style scoped>\n",
       "    .dataframe tbody tr th:only-of-type {\n",
       "        vertical-align: middle;\n",
       "    }\n",
       "\n",
       "    .dataframe tbody tr th {\n",
       "        vertical-align: top;\n",
       "    }\n",
       "\n",
       "    .dataframe thead th {\n",
       "        text-align: right;\n",
       "    }\n",
       "</style>\n",
       "<table border=\"1\" class=\"dataframe\">\n",
       "  <thead>\n",
       "    <tr style=\"text-align: right;\">\n",
       "      <th></th>\n",
       "      <th>Col1</th>\n",
       "      <th>Col2</th>\n",
       "      <th>X</th>\n",
       "    </tr>\n",
       "  </thead>\n",
       "  <tbody>\n",
       "    <tr>\n",
       "      <th>0</th>\n",
       "      <td>0.213308</td>\n",
       "      <td>0.854207</td>\n",
       "      <td>A</td>\n",
       "    </tr>\n",
       "    <tr>\n",
       "      <th>1</th>\n",
       "      <td>0.191468</td>\n",
       "      <td>0.619175</td>\n",
       "      <td>A</td>\n",
       "    </tr>\n",
       "    <tr>\n",
       "      <th>2</th>\n",
       "      <td>0.118474</td>\n",
       "      <td>0.225599</td>\n",
       "      <td>A</td>\n",
       "    </tr>\n",
       "    <tr>\n",
       "      <th>3</th>\n",
       "      <td>0.783399</td>\n",
       "      <td>0.413473</td>\n",
       "      <td>A</td>\n",
       "    </tr>\n",
       "    <tr>\n",
       "      <th>4</th>\n",
       "      <td>0.935951</td>\n",
       "      <td>0.967197</td>\n",
       "      <td>A</td>\n",
       "    </tr>\n",
       "    <tr>\n",
       "      <th>5</th>\n",
       "      <td>0.944753</td>\n",
       "      <td>0.916140</td>\n",
       "      <td>B</td>\n",
       "    </tr>\n",
       "    <tr>\n",
       "      <th>6</th>\n",
       "      <td>0.664838</td>\n",
       "      <td>0.049305</td>\n",
       "      <td>B</td>\n",
       "    </tr>\n",
       "    <tr>\n",
       "      <th>7</th>\n",
       "      <td>0.973887</td>\n",
       "      <td>0.938287</td>\n",
       "      <td>B</td>\n",
       "    </tr>\n",
       "    <tr>\n",
       "      <th>8</th>\n",
       "      <td>0.706509</td>\n",
       "      <td>0.989004</td>\n",
       "      <td>B</td>\n",
       "    </tr>\n",
       "    <tr>\n",
       "      <th>9</th>\n",
       "      <td>0.184874</td>\n",
       "      <td>0.732566</td>\n",
       "      <td>B</td>\n",
       "    </tr>\n",
       "  </tbody>\n",
       "</table>\n",
       "</div>"
      ],
      "text/plain": [
       "       Col1      Col2  X\n",
       "0  0.213308  0.854207  A\n",
       "1  0.191468  0.619175  A\n",
       "2  0.118474  0.225599  A\n",
       "3  0.783399  0.413473  A\n",
       "4  0.935951  0.967197  A\n",
       "5  0.944753  0.916140  B\n",
       "6  0.664838  0.049305  B\n",
       "7  0.973887  0.938287  B\n",
       "8  0.706509  0.989004  B\n",
       "9  0.184874  0.732566  B"
      ]
     },
     "execution_count": 15,
     "metadata": {},
     "output_type": "execute_result"
    }
   ],
   "source": [
    "df['X'] = pd.Series(['A','A','A','A','A','B','B','B','B','B'])\n",
    "df"
   ]
  },
  {
   "cell_type": "code",
   "execution_count": 16,
   "metadata": {},
   "outputs": [
    {
     "data": {
      "image/png": "[encoded data removed]",
      "text/plain": [
       "<Figure size 432x288 with 2 Axes>"
      ]
     },
     "metadata": {
      "needs_background": "light"
     },
     "output_type": "display_data"
    }
   ],
   "source": [
    "bp = df.boxplot(by='X')"
   ]
  },
  {
   "cell_type": "code",
   "execution_count": 18,
   "metadata": {},
   "outputs": [
    {
     "data": {
      "text/html": [
       "<div>\n",
       "<style scoped>\n",
       "    .dataframe tbody tr th:only-of-type {\n",
       "        vertical-align: middle;\n",
       "    }\n",
       "\n",
       "    .dataframe tbody tr th {\n",
       "        vertical-align: top;\n",
       "    }\n",
       "\n",
       "    .dataframe thead th {\n",
       "        text-align: right;\n",
       "    }\n",
       "</style>\n",
       "<table border=\"1\" class=\"dataframe\">\n",
       "  <thead>\n",
       "    <tr style=\"text-align: right;\">\n",
       "      <th></th>\n",
       "      <th>0</th>\n",
       "      <th>1</th>\n",
       "    </tr>\n",
       "  </thead>\n",
       "  <tbody>\n",
       "    <tr>\n",
       "      <th>0</th>\n",
       "      <td>0.471435</td>\n",
       "      <td>-1.190976</td>\n",
       "    </tr>\n",
       "    <tr>\n",
       "      <th>1</th>\n",
       "      <td>1.432707</td>\n",
       "      <td>-0.312652</td>\n",
       "    </tr>\n",
       "    <tr>\n",
       "      <th>2</th>\n",
       "      <td>-0.720589</td>\n",
       "      <td>0.887163</td>\n",
       "    </tr>\n",
       "    <tr>\n",
       "      <th>3</th>\n",
       "      <td>0.859588</td>\n",
       "      <td>-0.636524</td>\n",
       "    </tr>\n",
       "    <tr>\n",
       "      <th>4</th>\n",
       "      <td>0.015696</td>\n",
       "      <td>-2.242685</td>\n",
       "    </tr>\n",
       "    <tr>\n",
       "      <th>5</th>\n",
       "      <td>1.150036</td>\n",
       "      <td>0.991946</td>\n",
       "    </tr>\n",
       "    <tr>\n",
       "      <th>6</th>\n",
       "      <td>0.953324</td>\n",
       "      <td>-2.021255</td>\n",
       "    </tr>\n",
       "    <tr>\n",
       "      <th>7</th>\n",
       "      <td>-0.334077</td>\n",
       "      <td>0.002118</td>\n",
       "    </tr>\n",
       "    <tr>\n",
       "      <th>8</th>\n",
       "      <td>0.405453</td>\n",
       "      <td>0.289092</td>\n",
       "    </tr>\n",
       "    <tr>\n",
       "      <th>9</th>\n",
       "      <td>1.321158</td>\n",
       "      <td>-1.546906</td>\n",
       "    </tr>\n",
       "    <tr>\n",
       "      <th>10</th>\n",
       "      <td>-0.202646</td>\n",
       "      <td>-0.655969</td>\n",
       "    </tr>\n",
       "    <tr>\n",
       "      <th>11</th>\n",
       "      <td>0.193421</td>\n",
       "      <td>0.553439</td>\n",
       "    </tr>\n",
       "    <tr>\n",
       "      <th>12</th>\n",
       "      <td>1.318152</td>\n",
       "      <td>-0.469305</td>\n",
       "    </tr>\n",
       "    <tr>\n",
       "      <th>13</th>\n",
       "      <td>0.675554</td>\n",
       "      <td>-1.817027</td>\n",
       "    </tr>\n",
       "    <tr>\n",
       "      <th>14</th>\n",
       "      <td>-0.183109</td>\n",
       "      <td>1.058969</td>\n",
       "    </tr>\n",
       "    <tr>\n",
       "      <th>15</th>\n",
       "      <td>-0.397840</td>\n",
       "      <td>0.337438</td>\n",
       "    </tr>\n",
       "    <tr>\n",
       "      <th>16</th>\n",
       "      <td>1.047579</td>\n",
       "      <td>1.045938</td>\n",
       "    </tr>\n",
       "    <tr>\n",
       "      <th>17</th>\n",
       "      <td>0.863717</td>\n",
       "      <td>-0.122092</td>\n",
       "    </tr>\n",
       "    <tr>\n",
       "      <th>18</th>\n",
       "      <td>0.124713</td>\n",
       "      <td>-0.322795</td>\n",
       "    </tr>\n",
       "    <tr>\n",
       "      <th>19</th>\n",
       "      <td>0.841675</td>\n",
       "      <td>2.390961</td>\n",
       "    </tr>\n",
       "    <tr>\n",
       "      <th>20</th>\n",
       "      <td>0.076200</td>\n",
       "      <td>-0.566446</td>\n",
       "    </tr>\n",
       "    <tr>\n",
       "      <th>21</th>\n",
       "      <td>0.036142</td>\n",
       "      <td>-2.074978</td>\n",
       "    </tr>\n",
       "    <tr>\n",
       "      <th>22</th>\n",
       "      <td>0.247792</td>\n",
       "      <td>-0.897157</td>\n",
       "    </tr>\n",
       "    <tr>\n",
       "      <th>23</th>\n",
       "      <td>-0.136795</td>\n",
       "      <td>0.018289</td>\n",
       "    </tr>\n",
       "    <tr>\n",
       "      <th>24</th>\n",
       "      <td>0.755414</td>\n",
       "      <td>0.215269</td>\n",
       "    </tr>\n",
       "    <tr>\n",
       "      <th>25</th>\n",
       "      <td>0.841009</td>\n",
       "      <td>-1.445810</td>\n",
       "    </tr>\n",
       "    <tr>\n",
       "      <th>26</th>\n",
       "      <td>-1.401973</td>\n",
       "      <td>-0.100918</td>\n",
       "    </tr>\n",
       "    <tr>\n",
       "      <th>27</th>\n",
       "      <td>-0.548242</td>\n",
       "      <td>-0.144620</td>\n",
       "    </tr>\n",
       "    <tr>\n",
       "      <th>28</th>\n",
       "      <td>0.354020</td>\n",
       "      <td>-0.035513</td>\n",
       "    </tr>\n",
       "    <tr>\n",
       "      <th>29</th>\n",
       "      <td>0.565738</td>\n",
       "      <td>1.545659</td>\n",
       "    </tr>\n",
       "    <tr>\n",
       "      <th>30</th>\n",
       "      <td>-0.974236</td>\n",
       "      <td>-0.070345</td>\n",
       "    </tr>\n",
       "    <tr>\n",
       "      <th>31</th>\n",
       "      <td>0.307969</td>\n",
       "      <td>-0.208499</td>\n",
       "    </tr>\n",
       "    <tr>\n",
       "      <th>32</th>\n",
       "      <td>1.033801</td>\n",
       "      <td>-2.400454</td>\n",
       "    </tr>\n",
       "    <tr>\n",
       "      <th>33</th>\n",
       "      <td>2.030604</td>\n",
       "      <td>-1.142631</td>\n",
       "    </tr>\n",
       "    <tr>\n",
       "      <th>34</th>\n",
       "      <td>0.211883</td>\n",
       "      <td>0.704721</td>\n",
       "    </tr>\n",
       "    <tr>\n",
       "      <th>35</th>\n",
       "      <td>-0.785435</td>\n",
       "      <td>0.462060</td>\n",
       "    </tr>\n",
       "    <tr>\n",
       "      <th>36</th>\n",
       "      <td>0.704228</td>\n",
       "      <td>0.523508</td>\n",
       "    </tr>\n",
       "    <tr>\n",
       "      <th>37</th>\n",
       "      <td>-0.926254</td>\n",
       "      <td>2.007843</td>\n",
       "    </tr>\n",
       "    <tr>\n",
       "      <th>38</th>\n",
       "      <td>0.226963</td>\n",
       "      <td>-1.152659</td>\n",
       "    </tr>\n",
       "    <tr>\n",
       "      <th>39</th>\n",
       "      <td>0.631979</td>\n",
       "      <td>0.039513</td>\n",
       "    </tr>\n",
       "    <tr>\n",
       "      <th>40</th>\n",
       "      <td>0.464392</td>\n",
       "      <td>-3.563517</td>\n",
       "    </tr>\n",
       "    <tr>\n",
       "      <th>41</th>\n",
       "      <td>1.321106</td>\n",
       "      <td>0.152631</td>\n",
       "    </tr>\n",
       "    <tr>\n",
       "      <th>42</th>\n",
       "      <td>0.164530</td>\n",
       "      <td>-0.430096</td>\n",
       "    </tr>\n",
       "    <tr>\n",
       "      <th>43</th>\n",
       "      <td>0.767369</td>\n",
       "      <td>0.984920</td>\n",
       "    </tr>\n",
       "    <tr>\n",
       "      <th>44</th>\n",
       "      <td>0.270836</td>\n",
       "      <td>1.391986</td>\n",
       "    </tr>\n",
       "    <tr>\n",
       "      <th>45</th>\n",
       "      <td>0.079842</td>\n",
       "      <td>-0.399965</td>\n",
       "    </tr>\n",
       "    <tr>\n",
       "      <th>46</th>\n",
       "      <td>-1.027851</td>\n",
       "      <td>-0.584718</td>\n",
       "    </tr>\n",
       "    <tr>\n",
       "      <th>47</th>\n",
       "      <td>0.816594</td>\n",
       "      <td>-0.081947</td>\n",
       "    </tr>\n",
       "    <tr>\n",
       "      <th>48</th>\n",
       "      <td>-0.344766</td>\n",
       "      <td>0.528288</td>\n",
       "    </tr>\n",
       "    <tr>\n",
       "      <th>49</th>\n",
       "      <td>-1.068989</td>\n",
       "      <td>-0.511881</td>\n",
       "    </tr>\n",
       "  </tbody>\n",
       "</table>\n",
       "</div>"
      ],
      "text/plain": [
       "           0         1\n",
       "0   0.471435 -1.190976\n",
       "1   1.432707 -0.312652\n",
       "2  -0.720589  0.887163\n",
       "3   0.859588 -0.636524\n",
       "4   0.015696 -2.242685\n",
       "5   1.150036  0.991946\n",
       "6   0.953324 -2.021255\n",
       "7  -0.334077  0.002118\n",
       "8   0.405453  0.289092\n",
       "9   1.321158 -1.546906\n",
       "10 -0.202646 -0.655969\n",
       "11  0.193421  0.553439\n",
       "12  1.318152 -0.469305\n",
       "13  0.675554 -1.817027\n",
       "14 -0.183109  1.058969\n",
       "15 -0.397840  0.337438\n",
       "16  1.047579  1.045938\n",
       "17  0.863717 -0.122092\n",
       "18  0.124713 -0.322795\n",
       "19  0.841675  2.390961\n",
       "20  0.076200 -0.566446\n",
       "21  0.036142 -2.074978\n",
       "22  0.247792 -0.897157\n",
       "23 -0.136795  0.018289\n",
       "24  0.755414  0.215269\n",
       "25  0.841009 -1.445810\n",
       "26 -1.401973 -0.100918\n",
       "27 -0.548242 -0.144620\n",
       "28  0.354020 -0.035513\n",
       "29  0.565738  1.545659\n",
       "30 -0.974236 -0.070345\n",
       "31  0.307969 -0.208499\n",
       "32  1.033801 -2.400454\n",
       "33  2.030604 -1.142631\n",
       "34  0.211883  0.704721\n",
       "35 -0.785435  0.462060\n",
       "36  0.704228  0.523508\n",
       "37 -0.926254  2.007843\n",
       "38  0.226963 -1.152659\n",
       "39  0.631979  0.039513\n",
       "40  0.464392 -3.563517\n",
       "41  1.321106  0.152631\n",
       "42  0.164530 -0.430096\n",
       "43  0.767369  0.984920\n",
       "44  0.270836  1.391986\n",
       "45  0.079842 -0.399965\n",
       "46 -1.027851 -0.584718\n",
       "47  0.816594 -0.081947\n",
       "48 -0.344766  0.528288\n",
       "49 -1.068989 -0.511881"
      ]
     },
     "execution_count": 18,
     "metadata": {},
     "output_type": "execute_result"
    }
   ],
   "source": [
    "np.random.seed(1234)\n",
    "df_box = pd.DataFrame(np.random.randn(50, 2))\n",
    "df_box"
   ]
  },
  {
   "cell_type": "code",
   "execution_count": 19,
   "metadata": {},
   "outputs": [],
   "source": [
    "df_box['g'] = np.random.choice(['A','B'], size=50)\n",
    "df_box.loc[df_box['g'] == 'B', 1] += 3"
   ]
  },
  {
   "cell_type": "code",
   "execution_count": 20,
   "metadata": {},
   "outputs": [
    {
     "data": {
      "image/png": "[encoded data removed]",
      "text/plain": [
       "<Figure size 432x288 with 2 Axes>"
      ]
     },
     "metadata": {
      "needs_background": "light"
     },
     "output_type": "display_data"
    }
   ],
   "source": [
    "bp = df_box.boxplot(by='g')"
   ]
  },
  {
   "cell_type": "code",
   "execution_count": 21,
   "metadata": {},
   "outputs": [
    {
     "data": {
      "image/png": "[encoded data removed]",
      "text/plain": [
       "<Figure size 432x288 with 2 Axes>"
      ]
     },
     "metadata": {
      "needs_background": "light"
     },
     "output_type": "display_data"
    }
   ],
   "source": [
    "bp = df_box.groupby('g').boxplot()"
   ]
  },
  {
   "cell_type": "code",
   "execution_count": null,
   "metadata": {},
   "outputs": [],
   "source": []
  }
 ],
 "metadata": {
  "kernelspec": {
   "display_name": "Python 3",
   "language": "python",
   "name": "python3"
  },
  "language_info": {
   "codemirror_mode": {
    "name": "ipython",
    "version": 3
   },
   "file_extension": ".py",
   "mimetype": "text/x-python",
   "name": "python",
   "nbconvert_exporter": "python",
   "pygments_lexer": "ipython3",
   "version": "3.8.5"
  }
 },
 "nbformat": 4,
 "nbformat_minor": 4
}
